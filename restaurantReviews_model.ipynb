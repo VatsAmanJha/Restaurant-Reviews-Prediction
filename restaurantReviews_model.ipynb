{
 "cells": [
  {
   "cell_type": "markdown",
   "metadata": {},
   "source": [
    "**Restaurant Reviews Sentiment Analysics**\n"
   ]
  },
  {
   "cell_type": "code",
   "execution_count": 47,
   "metadata": {},
   "outputs": [],
   "source": [
    "import numpy as np\n",
    "import pandas as pd\n",
    "import re\n",
    "from nltk.corpus import stopwords\n",
    "from nltk.stem.porter import PorterStemmer\n",
    "from wordcloud import WordCloud\n",
    "import matplotlib.pyplot as plt\n",
    "import string\n",
    "from bs4 import BeautifulSoup\n",
    "import contractions\n",
    "from sklearn.feature_extraction.text import CountVectorizer, TfidfVectorizer\n",
    "from sklearn.model_selection import train_test_split\n",
    "from sklearn.pipeline import Pipeline\n",
    "from sklearn.linear_model import LogisticRegression\n",
    "from sklearn.naive_bayes import MultinomialNB\n",
    "from sklearn.svm import SVC\n",
    "from sklearn.ensemble import (\n",
    "    RandomForestClassifier,\n",
    "    AdaBoostClassifier,\n",
    "    VotingClassifier,\n",
    "    BaggingClassifier,\n",
    "    GradientBoostingClassifier,\n",
    "    ExtraTreesClassifier,\n",
    ")\n",
    "from sklearn.neighbors import KNeighborsClassifier\n",
    "from sklearn.tree import DecisionTreeClassifier\n",
    "from xgboost import XGBClassifier\n",
    "\n",
    "from sklearn.metrics import classification_report, confusion_matrix\n",
    "import warnings\n",
    "import pickle\n",
    "warnings.filterwarnings(\"ignore\")"
   ]
  },
  {
   "cell_type": "markdown",
   "metadata": {},
   "source": [
    "Data Loading\n"
   ]
  },
  {
   "cell_type": "code",
   "execution_count": 48,
   "metadata": {},
   "outputs": [],
   "source": [
    "df = pd.read_csv(\"a1_RestaurantReviews_HistoricDump.tsv\", sep=\"\\t\")"
   ]
  },
  {
   "cell_type": "code",
   "execution_count": 49,
   "metadata": {},
   "outputs": [
    {
     "data": {
      "text/html": [
       "<div>\n",
       "<style scoped>\n",
       "    .dataframe tbody tr th:only-of-type {\n",
       "        vertical-align: middle;\n",
       "    }\n",
       "\n",
       "    .dataframe tbody tr th {\n",
       "        vertical-align: top;\n",
       "    }\n",
       "\n",
       "    .dataframe thead th {\n",
       "        text-align: right;\n",
       "    }\n",
       "</style>\n",
       "<table border=\"1\" class=\"dataframe\">\n",
       "  <thead>\n",
       "    <tr style=\"text-align: right;\">\n",
       "      <th></th>\n",
       "      <th>Review</th>\n",
       "      <th>Liked</th>\n",
       "    </tr>\n",
       "  </thead>\n",
       "  <tbody>\n",
       "    <tr>\n",
       "      <th>0</th>\n",
       "      <td>Wow... Loved this place.</td>\n",
       "      <td>1</td>\n",
       "    </tr>\n",
       "    <tr>\n",
       "      <th>1</th>\n",
       "      <td>Crust is not good.</td>\n",
       "      <td>0</td>\n",
       "    </tr>\n",
       "    <tr>\n",
       "      <th>2</th>\n",
       "      <td>Not tasty and the texture was just nasty.</td>\n",
       "      <td>0</td>\n",
       "    </tr>\n",
       "    <tr>\n",
       "      <th>3</th>\n",
       "      <td>Stopped by during the late May bank holiday of...</td>\n",
       "      <td>1</td>\n",
       "    </tr>\n",
       "    <tr>\n",
       "      <th>4</th>\n",
       "      <td>The selection on the menu was great and so wer...</td>\n",
       "      <td>1</td>\n",
       "    </tr>\n",
       "  </tbody>\n",
       "</table>\n",
       "</div>"
      ],
      "text/plain": [
       "                                              Review  Liked\n",
       "0                           Wow... Loved this place.      1\n",
       "1                                 Crust is not good.      0\n",
       "2          Not tasty and the texture was just nasty.      0\n",
       "3  Stopped by during the late May bank holiday of...      1\n",
       "4  The selection on the menu was great and so wer...      1"
      ]
     },
     "execution_count": 49,
     "metadata": {},
     "output_type": "execute_result"
    }
   ],
   "source": [
    "df.head()"
   ]
  },
  {
   "cell_type": "code",
   "execution_count": 50,
   "metadata": {},
   "outputs": [
    {
     "data": {
      "text/plain": [
       "(900, 2)"
      ]
     },
     "execution_count": 50,
     "metadata": {},
     "output_type": "execute_result"
    }
   ],
   "source": [
    "df.shape"
   ]
  },
  {
   "cell_type": "code",
   "execution_count": 51,
   "metadata": {},
   "outputs": [
    {
     "data": {
      "text/plain": [
       "Liked\n",
       "1    496\n",
       "0    404\n",
       "Name: count, dtype: int64"
      ]
     },
     "execution_count": 51,
     "metadata": {},
     "output_type": "execute_result"
    }
   ],
   "source": [
    "df[\"Liked\"].value_counts()"
   ]
  },
  {
   "cell_type": "code",
   "execution_count": 52,
   "metadata": {},
   "outputs": [
    {
     "data": {
      "text/plain": [
       "([<matplotlib.patches.Wedge at 0x194f28c4f50>,\n",
       "  <matplotlib.patches.Wedge at 0x194f08084d0>],\n",
       " [Text(-0.17586927573571567, 1.0858498965566996, '1'),\n",
       "  Text(0.17586927573571554, -1.0858498965566996, '0')],\n",
       " [Text(-0.0959286958558449, 0.5922817617581997, '55.1%'),\n",
       "  Text(0.09592869585584482, -0.5922817617581997, '44.9%')])"
      ]
     },
     "execution_count": 52,
     "metadata": {},
     "output_type": "execute_result"
    },
    {
     "data": {
      "image/png": "[encoded data removed]",
      "text/plain": [
       "<Figure size 640x480 with 1 Axes>"
      ]
     },
     "metadata": {},
     "output_type": "display_data"
    }
   ],
   "source": [
    "plt.pie(\n",
    "    x=df[\"Liked\"].value_counts().values,\n",
    "    labels=df[\"Liked\"].value_counts().index,\n",
    "    autopct=\"%1.1f%%\",\n",
    ")"
   ]
  },
  {
   "cell_type": "code",
   "execution_count": 53,
   "metadata": {},
   "outputs": [
    {
     "data": {
      "text/plain": [
       "Review    0\n",
       "Liked     0\n",
       "dtype: int64"
      ]
     },
     "execution_count": 53,
     "metadata": {},
     "output_type": "execute_result"
    }
   ],
   "source": [
    "df.isnull().sum()"
   ]
  },
  {
   "cell_type": "code",
   "execution_count": 54,
   "metadata": {},
   "outputs": [
    {
     "name": "stdout",
     "output_type": "stream",
     "text": [
      "<class 'pandas.core.frame.DataFrame'>\n",
      "RangeIndex: 900 entries, 0 to 899\n",
      "Data columns (total 2 columns):\n",
      " #   Column  Non-Null Count  Dtype \n",
      "---  ------  --------------  ----- \n",
      " 0   Review  900 non-null    object\n",
      " 1   Liked   900 non-null    int64 \n",
      "dtypes: int64(1), object(1)\n",
      "memory usage: 14.2+ KB\n"
     ]
    }
   ],
   "source": [
    "df.info()"
   ]
  },
  {
   "cell_type": "code",
   "execution_count": 55,
   "metadata": {},
   "outputs": [],
   "source": [
    "def word_cloud(dataframe, review):\n",
    "    temp_df = dataframe[\"Review\"][dataframe[\"Liked\"] == review]\n",
    "    text_data = \" \".join(temp_df)\n",
    "    wordcloud = WordCloud(\n",
    "        background_color=\"white\", colormap=\"coolwarm\", max_words=10\n",
    "    ).generate(text_data)\n",
    "    plt.imshow(wordcloud)\n",
    "    plt.axis(\"off\")\n",
    "    plt.show()"
   ]
  },
  {
   "cell_type": "code",
   "execution_count": 56,
   "metadata": {},
   "outputs": [
    {
     "data": {
      "image/png": "[encoded data removed]",
      "text/plain": [
       "<Figure size 640x480 with 1 Axes>"
      ]
     },
     "metadata": {},
     "output_type": "display_data"
    }
   ],
   "source": [
    "word_cloud(df, 1)"
   ]
  },
  {
   "cell_type": "code",
   "execution_count": 57,
   "metadata": {},
   "outputs": [
    {
     "data": {
      "image/png": "[encoded data removed]",
      "text/plain": [
       "<Figure size 640x480 with 1 Axes>"
      ]
     },
     "metadata": {},
     "output_type": "display_data"
    }
   ],
   "source": [
    "word_cloud(df, 0)"
   ]
  },
  {
   "cell_type": "markdown",
   "metadata": {},
   "source": [
    "Text Cleaning\n",
    "\n",
    "i.e (Droping SP and No. Char, Conerting into Lower case, Droping Stopword, and apply Stemming.)\n",
    "after apply all above step the O/P should be ['text1','text2',....] in this Format...\n"
   ]
  },
  {
   "cell_type": "code",
   "execution_count": 58,
   "metadata": {},
   "outputs": [],
   "source": [
    "stemmer = PorterStemmer()\n",
    "stop_words = set(stopwords.words(\"english\"))"
   ]
  },
  {
   "cell_type": "code",
   "execution_count": 59,
   "metadata": {},
   "outputs": [],
   "source": [
    "def text_lower(text):\n",
    "    return text.lower()"
   ]
  },
  {
   "cell_type": "code",
   "execution_count": 60,
   "metadata": {},
   "outputs": [],
   "source": [
    "def remove_punctuation(text):\n",
    "    translator = str.maketrans(\" \", \" \", string.punctuation)\n",
    "    return text.translate(translator)"
   ]
  },
  {
   "cell_type": "code",
   "execution_count": 61,
   "metadata": {},
   "outputs": [],
   "source": [
    "def remove_number(text):\n",
    "    return re.sub(r\"\\d\", \" \", text)"
   ]
  },
  {
   "cell_type": "code",
   "execution_count": 62,
   "metadata": {},
   "outputs": [],
   "source": [
    "def remove_whitespace(text):\n",
    "    return \" \".join(text.split())"
   ]
  },
  {
   "cell_type": "code",
   "execution_count": 63,
   "metadata": {},
   "outputs": [],
   "source": [
    "def remove_contractions(text):\n",
    "    return contractions.fix(text)"
   ]
  },
  {
   "cell_type": "code",
   "execution_count": 64,
   "metadata": {},
   "outputs": [],
   "source": [
    "def remove_HTML_tag(text):\n",
    "    soup = BeautifulSoup(text, \"html.parser\")\n",
    "    return soup.get_text()"
   ]
  },
  {
   "cell_type": "code",
   "execution_count": 65,
   "metadata": {},
   "outputs": [],
   "source": [
    "def remove_stopwords(text):\n",
    "    words = text.split()\n",
    "    words = [word for word in words if word.lower() not in stop_words]\n",
    "    return \" \".join(words)"
   ]
  },
  {
   "cell_type": "code",
   "execution_count": 66,
   "metadata": {},
   "outputs": [],
   "source": [
    "def stem_words(text):\n",
    "    words = text.split()\n",
    "    words = [stemmer.stem(word) for word in words]\n",
    "    return \" \".join(words)"
   ]
  },
  {
   "cell_type": "code",
   "execution_count": 67,
   "metadata": {},
   "outputs": [],
   "source": [
    "def clean_text(dataframe, column_name):\n",
    "    dataframe_copy=dataframe.copy()\n",
    "    print(\"\\n=== Cleaning Process ===\")\n",
    "\n",
    "    print(\"\\n⬇️ Removing HTML Tags ⬇️\")\n",
    "    dataframe_copy[column_name] = dataframe_copy[column_name].apply(remove_HTML_tag)\n",
    "\n",
    "    print(\"\\n⬇️ Lowercasing Text ⬇️\")\n",
    "    dataframe_copy[column_name] = dataframe_copy[column_name].apply(text_lower)\n",
    "\n",
    "    print(\"\\n⬇️ Removing Punctuation ⬇️\")\n",
    "    dataframe_copy[column_name] = dataframe_copy[column_name].apply(remove_punctuation)\n",
    "\n",
    "    print(\"\\n⬇️ Removing Numbers ⬇️\")\n",
    "    dataframe_copy[column_name] = dataframe_copy[column_name].apply(remove_number)\n",
    "\n",
    "    print(\"\\n⬇️ Removing Whitespace ⬇️\")\n",
    "    dataframe_copy[column_name] = dataframe_copy[column_name].apply(remove_whitespace)\n",
    "\n",
    "    print(\"\\n⬇️ Expanding Contractions ⬇️\")\n",
    "    dataframe[column_name] = dataframe[column_name].apply(remove_contractions)\n",
    "\n",
    "    print(\"\\n⬇️ Removing Stopwords ⬇️\")\n",
    "    dataframe[column_name] = dataframe[column_name].apply(remove_stopwords)\n",
    "\n",
    "    print(\"\\n⬇️ Stemming Words ⬇️\")\n",
    "    dataframe_copy[column_name] = dataframe_copy[column_name].apply(stem_words)\n",
    "\n",
    "    print(\"\\n=== Cleaning Completed ===\\n\")\n",
    "    return dataframe_copy"
   ]
  },
  {
   "cell_type": "code",
   "execution_count": 68,
   "metadata": {},
   "outputs": [
    {
     "name": "stdout",
     "output_type": "stream",
     "text": [
      "\n",
      "=== Cleaning Process ===\n",
      "\n",
      "⬇️ Removing HTML Tags ⬇️\n",
      "\n",
      "⬇️ Lowercasing Text ⬇️\n",
      "\n",
      "⬇️ Removing Punctuation ⬇️\n",
      "\n",
      "⬇️ Removing Numbers ⬇️\n",
      "\n",
      "⬇️ Removing Whitespace ⬇️\n",
      "\n",
      "⬇️ Expanding Contractions ⬇️\n",
      "\n",
      "⬇️ Removing Stopwords ⬇️\n",
      "\n",
      "⬇️ Stemming Words ⬇️\n",
      "\n",
      "=== Cleaning Completed ===\n",
      "\n"
     ]
    }
   ],
   "source": [
    "clean_df = clean_text(df, \"Review\")"
   ]
  },
  {
   "cell_type": "code",
   "execution_count": 69,
   "metadata": {},
   "outputs": [
    {
     "data": {
      "image/png": "[encoded data removed]",
      "text/plain": [
       "<Figure size 640x480 with 1 Axes>"
      ]
     },
     "metadata": {},
     "output_type": "display_data"
    }
   ],
   "source": [
    "word_cloud(clean_df, 1)"
   ]
  },
  {
   "cell_type": "code",
   "execution_count": 70,
   "metadata": {},
   "outputs": [
    {
     "data": {
      "image/png": "[encoded data removed]",
      "text/plain": [
       "<Figure size 640x480 with 1 Axes>"
      ]
     },
     "metadata": {},
     "output_type": "display_data"
    }
   ],
   "source": [
    "word_cloud(clean_df, 0)"
   ]
  },
  {
   "cell_type": "code",
   "execution_count": 71,
   "metadata": {},
   "outputs": [
    {
     "data": {
      "text/plain": [
       "numpy.ndarray"
      ]
     },
     "execution_count": 71,
     "metadata": {},
     "output_type": "execute_result"
    }
   ],
   "source": [
    "CORPUS = np.array(clean_df[\"Review\"])\n",
    "type(CORPUS)"
   ]
  },
  {
   "cell_type": "code",
   "execution_count": 72,
   "metadata": {},
   "outputs": [
    {
     "data": {
      "text/plain": [
       "900"
      ]
     },
     "execution_count": 72,
     "metadata": {},
     "output_type": "execute_result"
    }
   ],
   "source": [
    "len(CORPUS)"
   ]
  },
  {
   "cell_type": "code",
   "execution_count": 73,
   "metadata": {},
   "outputs": [
    {
     "data": {
      "text/plain": [
       "'wow love thi place'"
      ]
     },
     "execution_count": 73,
     "metadata": {},
     "output_type": "execute_result"
    }
   ],
   "source": [
    "CORPUS[0]"
   ]
  },
  {
   "cell_type": "code",
   "execution_count": 74,
   "metadata": {},
   "outputs": [],
   "source": [
    "y = df[\"Liked\"]"
   ]
  },
  {
   "cell_type": "markdown",
   "metadata": {},
   "source": [
    "Train Test Split\n"
   ]
  },
  {
   "cell_type": "code",
   "execution_count": 75,
   "metadata": {},
   "outputs": [],
   "source": [
    "X_train, X_test, y_train, y_test = train_test_split(\n",
    "    CORPUS, y, test_size=0.2, random_state=42\n",
    ")"
   ]
  },
  {
   "cell_type": "code",
   "execution_count": 76,
   "metadata": {},
   "outputs": [],
   "source": [
    "models = [\n",
    "    (\"Logistic Regression\", LogisticRegression()),\n",
    "    (\"Naive Bayes (MultinomialNB)\", MultinomialNB()),\n",
    "    (\"Support Vector Machines (SVM)\", SVC()),\n",
    "    (\"Random Forest\", RandomForestClassifier()),\n",
    "    (\"Gradient Boosting Machines (XGBoost)\", XGBClassifier()),\n",
    "    (\"K-Nearest Neighbors (KNN)\", KNeighborsClassifier()),\n",
    "    (\"Decision Trees\", DecisionTreeClassifier()),\n",
    "    (\"Random Forest\", RandomForestClassifier()),\n",
    "    (\"Extra Trees\", ExtraTreesClassifier()),\n",
    "    (\"Ensemble Methods (AdaBoost)\", AdaBoostClassifier()),\n",
    "    (\n",
    "        \"Ensemble Methods (Voting Classifier)\",\n",
    "        VotingClassifier(\n",
    "            estimators=[\n",
    "                (\"lr\", LogisticRegression()),\n",
    "                (\"svm\", SVC()),\n",
    "                (\"rf\", RandomForestClassifier()),\n",
    "            ]\n",
    "        ),\n",
    "    ),\n",
    "    (\n",
    "        \"Ensemble Methods (Bagging)\",\n",
    "        BaggingClassifier(base_estimator=DecisionTreeClassifier()),\n",
    "    ),\n",
    "    (\"Ensemble Methods (Gradient Boosting)\", GradientBoostingClassifier()),\n",
    "]"
   ]
  },
  {
   "cell_type": "code",
   "execution_count": 77,
   "metadata": {},
   "outputs": [],
   "source": [
    "def evaluate_classification_model(model_name, model, X_train, y_train, X_test, y_test):\n",
    "    pipeline = Pipeline(steps=[(\"vectorizer\", CountVectorizer()), (\"model\", model)])\n",
    "    pipeline.fit(X_train, y_train)\n",
    "    y_train_pred = pipeline.predict(X_train)\n",
    "    y_test_pred = pipeline.predict(X_test)\n",
    "    # Print classification report\n",
    "    print(\"Training Report\")\n",
    "    print(f\"{model_name} Classification Report:\")\n",
    "    print(classification_report(y_train, y_train_pred))\n",
    "\n",
    "    # Print confusion matrix\n",
    "    print(f\"{model_name} Confusion Matrix:\")\n",
    "    print(confusion_matrix(y_train, y_train_pred))\n",
    "    print(\"Test Report\")\n",
    "    # Print classification report\n",
    "    print(f\"{model_name} Classification Report:\")\n",
    "    print(classification_report(y_test, y_test_pred))\n",
    "\n",
    "    # Print confusion matrix\n",
    "    print(f\"{model_name} Confusion Matrix:\")\n",
    "    print(confusion_matrix(y_test, y_test_pred))"
   ]
  },
  {
   "cell_type": "code",
   "execution_count": 78,
   "metadata": {},
   "outputs": [
    {
     "name": "stdout",
     "output_type": "stream",
     "text": [
      "Training Report\n",
      "Logistic Regression Classification Report:\n",
      "              precision    recall  f1-score   support\n",
      "\n",
      "           0       0.98      0.99      0.98       322\n",
      "           1       0.99      0.98      0.99       398\n",
      "\n",
      "    accuracy                           0.99       720\n",
      "   macro avg       0.99      0.99      0.99       720\n",
      "weighted avg       0.99      0.99      0.99       720\n",
      "\n",
      "Logistic Regression Confusion Matrix:\n",
      "[[320   2]\n",
      " [  8 390]]\n",
      "Test Report\n",
      "Logistic Regression Classification Report:\n",
      "              precision    recall  f1-score   support\n",
      "\n",
      "           0       0.76      0.71      0.73        82\n",
      "           1       0.77      0.82      0.79        98\n",
      "\n",
      "    accuracy                           0.77       180\n",
      "   macro avg       0.77      0.76      0.76       180\n",
      "weighted avg       0.77      0.77      0.77       180\n",
      "\n",
      "Logistic Regression Confusion Matrix:\n",
      "[[58 24]\n",
      " [18 80]]\n",
      "Training Report\n",
      "Naive Bayes (MultinomialNB) Classification Report:\n",
      "              precision    recall  f1-score   support\n",
      "\n",
      "           0       0.93      0.96      0.94       322\n",
      "           1       0.97      0.94      0.95       398\n",
      "\n",
      "    accuracy                           0.95       720\n",
      "   macro avg       0.95      0.95      0.95       720\n",
      "weighted avg       0.95      0.95      0.95       720\n",
      "\n",
      "Naive Bayes (MultinomialNB) Confusion Matrix:\n",
      "[[309  13]\n",
      " [ 23 375]]\n",
      "Test Report\n",
      "Naive Bayes (MultinomialNB) Classification Report:\n",
      "              precision    recall  f1-score   support\n",
      "\n",
      "           0       0.76      0.79      0.77        82\n",
      "           1       0.82      0.79      0.80        98\n",
      "\n",
      "    accuracy                           0.79       180\n",
      "   macro avg       0.79      0.79      0.79       180\n",
      "weighted avg       0.79      0.79      0.79       180\n",
      "\n",
      "Naive Bayes (MultinomialNB) Confusion Matrix:\n",
      "[[65 17]\n",
      " [21 77]]\n",
      "Training Report\n",
      "Support Vector Machines (SVM) Classification Report:\n",
      "              precision    recall  f1-score   support\n",
      "\n",
      "           0       0.99      0.98      0.98       322\n",
      "           1       0.98      0.99      0.98       398\n",
      "\n",
      "    accuracy                           0.98       720\n",
      "   macro avg       0.98      0.98      0.98       720\n",
      "weighted avg       0.98      0.98      0.98       720\n",
      "\n",
      "Support Vector Machines (SVM) Confusion Matrix:\n",
      "[[314   8]\n",
      " [  4 394]]\n",
      "Test Report\n",
      "Support Vector Machines (SVM) Classification Report:\n",
      "              precision    recall  f1-score   support\n",
      "\n",
      "           0       0.79      0.66      0.72        82\n",
      "           1       0.75      0.86      0.80        98\n",
      "\n",
      "    accuracy                           0.77       180\n",
      "   macro avg       0.77      0.76      0.76       180\n",
      "weighted avg       0.77      0.77      0.76       180\n",
      "\n",
      "Support Vector Machines (SVM) Confusion Matrix:\n",
      "[[54 28]\n",
      " [14 84]]\n",
      "Training Report\n",
      "Random Forest Classification Report:\n",
      "              precision    recall  f1-score   support\n",
      "\n",
      "           0       1.00      1.00      1.00       322\n",
      "           1       1.00      1.00      1.00       398\n",
      "\n",
      "    accuracy                           1.00       720\n",
      "   macro avg       1.00      1.00      1.00       720\n",
      "weighted avg       1.00      1.00      1.00       720\n",
      "\n",
      "Random Forest Confusion Matrix:\n",
      "[[322   0]\n",
      " [  0 398]]\n",
      "Test Report\n",
      "Random Forest Classification Report:\n",
      "              precision    recall  f1-score   support\n",
      "\n",
      "           0       0.82      0.65      0.72        82\n",
      "           1       0.75      0.88      0.81        98\n",
      "\n",
      "    accuracy                           0.77       180\n",
      "   macro avg       0.78      0.76      0.76       180\n",
      "weighted avg       0.78      0.77      0.77       180\n",
      "\n",
      "Random Forest Confusion Matrix:\n",
      "[[53 29]\n",
      " [12 86]]\n",
      "Training Report\n",
      "Gradient Boosting Machines (XGBoost) Classification Report:\n",
      "              precision    recall  f1-score   support\n",
      "\n",
      "           0       0.97      0.95      0.96       322\n",
      "           1       0.96      0.97      0.97       398\n",
      "\n",
      "    accuracy                           0.96       720\n",
      "   macro avg       0.96      0.96      0.96       720\n",
      "weighted avg       0.96      0.96      0.96       720\n",
      "\n",
      "Gradient Boosting Machines (XGBoost) Confusion Matrix:\n",
      "[[306  16]\n",
      " [ 11 387]]\n",
      "Test Report\n",
      "Gradient Boosting Machines (XGBoost) Classification Report:\n",
      "              precision    recall  f1-score   support\n",
      "\n",
      "           0       0.73      0.67      0.70        82\n",
      "           1       0.74      0.80      0.77        98\n",
      "\n",
      "    accuracy                           0.74       180\n",
      "   macro avg       0.74      0.73      0.73       180\n",
      "weighted avg       0.74      0.74      0.74       180\n",
      "\n",
      "Gradient Boosting Machines (XGBoost) Confusion Matrix:\n",
      "[[55 27]\n",
      " [20 78]]\n",
      "Training Report\n",
      "K-Nearest Neighbors (KNN) Classification Report:\n",
      "              precision    recall  f1-score   support\n",
      "\n",
      "           0       0.80      0.68      0.74       322\n",
      "           1       0.77      0.86      0.81       398\n",
      "\n",
      "    accuracy                           0.78       720\n",
      "   macro avg       0.79      0.77      0.78       720\n",
      "weighted avg       0.78      0.78      0.78       720\n",
      "\n",
      "K-Nearest Neighbors (KNN) Confusion Matrix:\n",
      "[[220 102]\n",
      " [ 55 343]]\n",
      "Test Report\n",
      "K-Nearest Neighbors (KNN) Classification Report:\n",
      "              precision    recall  f1-score   support\n",
      "\n",
      "           0       0.68      0.57      0.62        82\n",
      "           1       0.68      0.78      0.73        98\n",
      "\n",
      "    accuracy                           0.68       180\n",
      "   macro avg       0.68      0.67      0.67       180\n",
      "weighted avg       0.68      0.68      0.68       180\n",
      "\n",
      "K-Nearest Neighbors (KNN) Confusion Matrix:\n",
      "[[47 35]\n",
      " [22 76]]\n",
      "Training Report\n",
      "Decision Trees Classification Report:\n",
      "              precision    recall  f1-score   support\n",
      "\n",
      "           0       1.00      1.00      1.00       322\n",
      "           1       1.00      1.00      1.00       398\n",
      "\n",
      "    accuracy                           1.00       720\n",
      "   macro avg       1.00      1.00      1.00       720\n",
      "weighted avg       1.00      1.00      1.00       720\n",
      "\n",
      "Decision Trees Confusion Matrix:\n",
      "[[322   0]\n",
      " [  0 398]]\n",
      "Test Report\n",
      "Decision Trees Classification Report:\n",
      "              precision    recall  f1-score   support\n",
      "\n",
      "           0       0.68      0.74      0.71        82\n",
      "           1       0.77      0.70      0.73        98\n",
      "\n",
      "    accuracy                           0.72       180\n",
      "   macro avg       0.72      0.72      0.72       180\n",
      "weighted avg       0.73      0.72      0.72       180\n",
      "\n",
      "Decision Trees Confusion Matrix:\n",
      "[[61 21]\n",
      " [29 69]]\n",
      "Training Report\n",
      "Random Forest Classification Report:\n",
      "              precision    recall  f1-score   support\n",
      "\n",
      "           0       1.00      1.00      1.00       322\n",
      "           1       1.00      1.00      1.00       398\n",
      "\n",
      "    accuracy                           1.00       720\n",
      "   macro avg       1.00      1.00      1.00       720\n",
      "weighted avg       1.00      1.00      1.00       720\n",
      "\n",
      "Random Forest Confusion Matrix:\n",
      "[[322   0]\n",
      " [  0 398]]\n",
      "Test Report\n",
      "Random Forest Classification Report:\n",
      "              precision    recall  f1-score   support\n",
      "\n",
      "           0       0.81      0.68      0.74        82\n",
      "           1       0.77      0.87      0.81        98\n",
      "\n",
      "    accuracy                           0.78       180\n",
      "   macro avg       0.79      0.78      0.78       180\n",
      "weighted avg       0.79      0.78      0.78       180\n",
      "\n",
      "Random Forest Confusion Matrix:\n",
      "[[56 26]\n",
      " [13 85]]\n",
      "Training Report\n",
      "Extra Trees Classification Report:\n",
      "              precision    recall  f1-score   support\n",
      "\n",
      "           0       1.00      1.00      1.00       322\n",
      "           1       1.00      1.00      1.00       398\n",
      "\n",
      "    accuracy                           1.00       720\n",
      "   macro avg       1.00      1.00      1.00       720\n",
      "weighted avg       1.00      1.00      1.00       720\n",
      "\n",
      "Extra Trees Confusion Matrix:\n",
      "[[322   0]\n",
      " [  0 398]]\n",
      "Test Report\n",
      "Extra Trees Classification Report:\n",
      "              precision    recall  f1-score   support\n",
      "\n",
      "           0       0.78      0.68      0.73        82\n",
      "           1       0.76      0.84      0.80        98\n",
      "\n",
      "    accuracy                           0.77       180\n",
      "   macro avg       0.77      0.76      0.76       180\n",
      "weighted avg       0.77      0.77      0.76       180\n",
      "\n",
      "Extra Trees Confusion Matrix:\n",
      "[[56 26]\n",
      " [16 82]]\n",
      "Training Report\n",
      "Ensemble Methods (AdaBoost) Classification Report:\n",
      "              precision    recall  f1-score   support\n",
      "\n",
      "           0       0.91      0.71      0.80       322\n",
      "           1       0.80      0.94      0.86       398\n",
      "\n",
      "    accuracy                           0.84       720\n",
      "   macro avg       0.85      0.83      0.83       720\n",
      "weighted avg       0.85      0.84      0.83       720\n",
      "\n",
      "Ensemble Methods (AdaBoost) Confusion Matrix:\n",
      "[[229  93]\n",
      " [ 24 374]]\n",
      "Test Report\n",
      "Ensemble Methods (AdaBoost) Classification Report:\n",
      "              precision    recall  f1-score   support\n",
      "\n",
      "           0       0.73      0.59      0.65        82\n",
      "           1       0.70      0.82      0.75        98\n",
      "\n",
      "    accuracy                           0.71       180\n",
      "   macro avg       0.71      0.70      0.70       180\n",
      "weighted avg       0.71      0.71      0.71       180\n",
      "\n",
      "Ensemble Methods (AdaBoost) Confusion Matrix:\n",
      "[[48 34]\n",
      " [18 80]]\n",
      "Training Report\n",
      "Ensemble Methods (Voting Classifier) Classification Report:\n",
      "              precision    recall  f1-score   support\n",
      "\n",
      "           0       0.99      1.00      0.99       322\n",
      "           1       1.00      0.99      0.99       398\n",
      "\n",
      "    accuracy                           0.99       720\n",
      "   macro avg       0.99      0.99      0.99       720\n",
      "weighted avg       0.99      0.99      0.99       720\n",
      "\n",
      "Ensemble Methods (Voting Classifier) Confusion Matrix:\n",
      "[[321   1]\n",
      " [  4 394]]\n",
      "Test Report\n",
      "Ensemble Methods (Voting Classifier) Classification Report:\n",
      "              precision    recall  f1-score   support\n",
      "\n",
      "           0       0.80      0.67      0.73        82\n",
      "           1       0.76      0.86      0.80        98\n",
      "\n",
      "    accuracy                           0.77       180\n",
      "   macro avg       0.78      0.76      0.77       180\n",
      "weighted avg       0.78      0.77      0.77       180\n",
      "\n",
      "Ensemble Methods (Voting Classifier) Confusion Matrix:\n",
      "[[55 27]\n",
      " [14 84]]\n",
      "Training Report\n",
      "Ensemble Methods (Bagging) Classification Report:\n",
      "              precision    recall  f1-score   support\n",
      "\n",
      "           0       0.96      1.00      0.98       322\n",
      "           1       1.00      0.96      0.98       398\n",
      "\n",
      "    accuracy                           0.98       720\n",
      "   macro avg       0.98      0.98      0.98       720\n",
      "weighted avg       0.98      0.98      0.98       720\n",
      "\n",
      "Ensemble Methods (Bagging) Confusion Matrix:\n",
      "[[321   1]\n",
      " [ 14 384]]\n",
      "Test Report\n",
      "Ensemble Methods (Bagging) Classification Report:\n",
      "              precision    recall  f1-score   support\n",
      "\n",
      "           0       0.64      0.80      0.71        82\n",
      "           1       0.79      0.62      0.70        98\n",
      "\n",
      "    accuracy                           0.71       180\n",
      "   macro avg       0.72      0.71      0.71       180\n",
      "weighted avg       0.72      0.71      0.70       180\n",
      "\n",
      "Ensemble Methods (Bagging) Confusion Matrix:\n",
      "[[66 16]\n",
      " [37 61]]\n",
      "Training Report\n",
      "Ensemble Methods (Gradient Boosting) Classification Report:\n",
      "              precision    recall  f1-score   support\n",
      "\n",
      "           0       0.97      0.80      0.88       322\n",
      "           1       0.86      0.98      0.92       398\n",
      "\n",
      "    accuracy                           0.90       720\n",
      "   macro avg       0.92      0.89      0.90       720\n",
      "weighted avg       0.91      0.90      0.90       720\n",
      "\n",
      "Ensemble Methods (Gradient Boosting) Confusion Matrix:\n",
      "[[257  65]\n",
      " [  7 391]]\n",
      "Test Report\n",
      "Ensemble Methods (Gradient Boosting) Classification Report:\n",
      "              precision    recall  f1-score   support\n",
      "\n",
      "           0       0.78      0.60      0.68        82\n",
      "           1       0.72      0.86      0.78        98\n",
      "\n",
      "    accuracy                           0.74       180\n",
      "   macro avg       0.75      0.73      0.73       180\n",
      "weighted avg       0.75      0.74      0.73       180\n",
      "\n",
      "Ensemble Methods (Gradient Boosting) Confusion Matrix:\n",
      "[[49 33]\n",
      " [14 84]]\n"
     ]
    }
   ],
   "source": [
    "for model_name, model in models:\n",
    "    evaluate_classification_model(model_name, model, X_train, y_train, X_test, y_test)"
   ]
  },
  {
   "cell_type": "markdown",
   "metadata": {},
   "source": [
    "Based on this analysis, the top-performing models from best to worst are:\n",
    "\n",
    "- Random Forest\n",
    "- Support Vector Machines (SVM)\n",
    "- Ensemble Methods (Voting Classifier)\n",
    "- Ensemble Methods (Bagging)\n",
    "- Ensemble Methods (Gradient Boosting)\n",
    "- Naive Bayes (MultinomialNB)\n",
    "- Logistic Regression\n",
    "- K-Nearest Neighbors (KNN)\n",
    "- Decision Trees\n",
    "- Extra Trees\n",
    "\n",
    "So, i choose `Random Forest` for further step."
   ]
  },
  {
   "cell_type": "code",
   "execution_count": 79,
   "metadata": {},
   "outputs": [],
   "source": [
    "pipeline_rf=Pipeline(steps=[(\"vectorizer\", CountVectorizer()), (\"model\", RandomForestClassifier())])"
   ]
  },
  {
   "cell_type": "code",
   "execution_count": 80,
   "metadata": {},
   "outputs": [
    {
     "data": {
      "text/html": [
       "<style>#sk-container-id-1 {color: black;}#sk-container-id-1 pre{padding: 0;}#sk-container-id-1 div.sk-toggleable {background-color: white;}#sk-container-id-1 label.sk-toggleable__label {cursor: pointer;display: block;width: 100%;margin-bottom: 0;padding: 0.3em;box-sizing: border-box;text-align: center;}#sk-container-id-1 label.sk-toggleable__label-arrow:before {content: \"▸\";float: left;margin-right: 0.25em;color: #696969;}#sk-container-id-1 label.sk-toggleable__label-arrow:hover:before {color: black;}#sk-container-id-1 div.sk-estimator:hover label.sk-toggleable__label-arrow:before {color: black;}#sk-container-id-1 div.sk-toggleable__content {max-height: 0;max-width: 0;overflow: hidden;text-align: left;background-color: #f0f8ff;}#sk-container-id-1 div.sk-toggleable__content pre {margin: 0.2em;color: black;border-radius: 0.25em;background-color: #f0f8ff;}#sk-container-id-1 input.sk-toggleable__control:checked~div.sk-toggleable__content {max-height: 200px;max-width: 100%;overflow: auto;}#sk-container-id-1 input.sk-toggleable__control:checked~label.sk-toggleable__label-arrow:before {content: \"▾\";}#sk-container-id-1 div.sk-estimator input.sk-toggleable__control:checked~label.sk-toggleable__label {background-color: #d4ebff;}#sk-container-id-1 div.sk-label input.sk-toggleable__control:checked~label.sk-toggleable__label {background-color: #d4ebff;}#sk-container-id-1 input.sk-hidden--visually {border: 0;clip: rect(1px 1px 1px 1px);clip: rect(1px, 1px, 1px, 1px);height: 1px;margin: -1px;overflow: hidden;padding: 0;position: absolute;width: 1px;}#sk-container-id-1 div.sk-estimator {font-family: monospace;background-color: #f0f8ff;border: 1px dotted black;border-radius: 0.25em;box-sizing: border-box;margin-bottom: 0.5em;}#sk-container-id-1 div.sk-estimator:hover {background-color: #d4ebff;}#sk-container-id-1 div.sk-parallel-item::after {content: \"\";width: 100%;border-bottom: 1px solid gray;flex-grow: 1;}#sk-container-id-1 div.sk-label:hover label.sk-toggleable__label {background-color: #d4ebff;}#sk-container-id-1 div.sk-serial::before {content: \"\";position: absolute;border-left: 1px solid gray;box-sizing: border-box;top: 0;bottom: 0;left: 50%;z-index: 0;}#sk-container-id-1 div.sk-serial {display: flex;flex-direction: column;align-items: center;background-color: white;padding-right: 0.2em;padding-left: 0.2em;position: relative;}#sk-container-id-1 div.sk-item {position: relative;z-index: 1;}#sk-container-id-1 div.sk-parallel {display: flex;align-items: stretch;justify-content: center;background-color: white;position: relative;}#sk-container-id-1 div.sk-item::before, #sk-container-id-1 div.sk-parallel-item::before {content: \"\";position: absolute;border-left: 1px solid gray;box-sizing: border-box;top: 0;bottom: 0;left: 50%;z-index: -1;}#sk-container-id-1 div.sk-parallel-item {display: flex;flex-direction: column;z-index: 1;position: relative;background-color: white;}#sk-container-id-1 div.sk-parallel-item:first-child::after {align-self: flex-end;width: 50%;}#sk-container-id-1 div.sk-parallel-item:last-child::after {align-self: flex-start;width: 50%;}#sk-container-id-1 div.sk-parallel-item:only-child::after {width: 0;}#sk-container-id-1 div.sk-dashed-wrapped {border: 1px dashed gray;margin: 0 0.4em 0.5em 0.4em;box-sizing: border-box;padding-bottom: 0.4em;background-color: white;}#sk-container-id-1 div.sk-label label {font-family: monospace;font-weight: bold;display: inline-block;line-height: 1.2em;}#sk-container-id-1 div.sk-label-container {text-align: center;}#sk-container-id-1 div.sk-container {/* jupyter's `normalize.less` sets `[hidden] { display: none; }` but bootstrap.min.css set `[hidden] { display: none !important; }` so we also need the `!important` here to be able to override the default hidden behavior on the sphinx rendered scikit-learn.org. See: https://github.com/scikit-learn/scikit-learn/issues/21755 */display: inline-block !important;position: relative;}#sk-container-id-1 div.sk-text-repr-fallback {display: none;}</style><div id=\"sk-container-id-1\" class=\"sk-top-container\"><div class=\"sk-text-repr-fallback\"><pre>Pipeline(steps=[(&#x27;vectorizer&#x27;, CountVectorizer()),\n",
       "                (&#x27;model&#x27;, RandomForestClassifier())])</pre><b>In a Jupyter environment, please rerun this cell to show the HTML representation or trust the notebook. <br />On GitHub, the HTML representation is unable to render, please try loading this page with nbviewer.org.</b></div><div class=\"sk-container\" hidden><div class=\"sk-item sk-dashed-wrapped\"><div class=\"sk-label-container\"><div class=\"sk-label sk-toggleable\"><input class=\"sk-toggleable__control sk-hidden--visually\" id=\"sk-estimator-id-1\" type=\"checkbox\" ><label for=\"sk-estimator-id-1\" class=\"sk-toggleable__label sk-toggleable__label-arrow\">Pipeline</label><div class=\"sk-toggleable__content\"><pre>Pipeline(steps=[(&#x27;vectorizer&#x27;, CountVectorizer()),\n",
       "                (&#x27;model&#x27;, RandomForestClassifier())])</pre></div></div></div><div class=\"sk-serial\"><div class=\"sk-item\"><div class=\"sk-estimator sk-toggleable\"><input class=\"sk-toggleable__control sk-hidden--visually\" id=\"sk-estimator-id-2\" type=\"checkbox\" ><label for=\"sk-estimator-id-2\" class=\"sk-toggleable__label sk-toggleable__label-arrow\">CountVectorizer</label><div class=\"sk-toggleable__content\"><pre>CountVectorizer()</pre></div></div></div><div class=\"sk-item\"><div class=\"sk-estimator sk-toggleable\"><input class=\"sk-toggleable__control sk-hidden--visually\" id=\"sk-estimator-id-3\" type=\"checkbox\" ><label for=\"sk-estimator-id-3\" class=\"sk-toggleable__label sk-toggleable__label-arrow\">RandomForestClassifier</label><div class=\"sk-toggleable__content\"><pre>RandomForestClassifier()</pre></div></div></div></div></div></div></div>"
      ],
      "text/plain": [
       "Pipeline(steps=[('vectorizer', CountVectorizer()),\n",
       "                ('model', RandomForestClassifier())])"
      ]
     },
     "execution_count": 80,
     "metadata": {},
     "output_type": "execute_result"
    }
   ],
   "source": [
    "pipeline_rf.fit(X_train, y_train)"
   ]
  },
  {
   "cell_type": "code",
   "execution_count": 81,
   "metadata": {},
   "outputs": [
    {
     "name": "stdout",
     "output_type": "stream",
     "text": [
      "Training Report\n",
      "Random Forest Classification Report:\n",
      "              precision    recall  f1-score   support\n",
      "\n",
      "           0       1.00      1.00      1.00       322\n",
      "           1       1.00      1.00      1.00       398\n",
      "\n",
      "    accuracy                           1.00       720\n",
      "   macro avg       1.00      1.00      1.00       720\n",
      "weighted avg       1.00      1.00      1.00       720\n",
      "\n",
      "Random Forest Confusion Matrix:\n",
      "[[322   0]\n",
      " [  0 398]]\n",
      "Test Report\n",
      "Random Forest Classification Report:\n",
      "              precision    recall  f1-score   support\n",
      "\n",
      "           0       0.78      0.65      0.71        82\n",
      "           1       0.74      0.85      0.79        98\n",
      "\n",
      "    accuracy                           0.76       180\n",
      "   macro avg       0.76      0.75      0.75       180\n",
      "weighted avg       0.76      0.76      0.75       180\n",
      "\n",
      "Random Forest Confusion Matrix:\n",
      "[[53 29]\n",
      " [15 83]]\n"
     ]
    }
   ],
   "source": [
    "y_train_pred = pipeline_rf.predict(X_train)\n",
    "y_test_pred = pipeline_rf.predict(X_test)\n",
    "    # Print classification report\n",
    "print(\"Training Report\")\n",
    "print(f\"Random Forest Classification Report:\")\n",
    "print(classification_report(y_train, y_train_pred))\n",
    "\n",
    "    # Print confusion matrix\n",
    "print(f\"Random Forest Confusion Matrix:\")\n",
    "print(confusion_matrix(y_train, y_train_pred))\n",
    "print(\"Test Report\")\n",
    "    # Print classification report\n",
    "print(f\"Random Forest Classification Report:\")\n",
    "print(classification_report(y_test, y_test_pred))\n",
    "\n",
    "    # Print confusion matrix\n",
    "print(f\"Random Forest Confusion Matrix:\")\n",
    "print(confusion_matrix(y_test, y_test_pred))"
   ]
  },
  {
   "cell_type": "code",
   "execution_count": 82,
   "metadata": {},
   "outputs": [],
   "source": [
    "def prediction(dataframe,column):\n",
    "    clean_df = clean_text(dataframe, column)\n",
    "    CORPUS = np.array(clean_df[\"Review\"])\n",
    "    pred = pipeline_rf.predict(CORPUS)\n",
    "    \n",
    "    result_df = pd.DataFrame({'Review': clean_df[column], 'Prediction': pred})\n",
    "    \n",
    "    return result_df\n",
    "    \n",
    "    "
   ]
  },
  {
   "cell_type": "code",
   "execution_count": 83,
   "metadata": {},
   "outputs": [],
   "source": [
    "positive_restaurant_reviews = [\n",
    "    \"I had a delightful dining experience at this restaurant. The food was exquisite, the service was impeccable, and the ambiance was charming. I will definitely be coming back!\",\n",
    "    \"The chef at this restaurant is truly talented. Every dish was a culinary masterpiece, and the presentation was top-notch. A fantastic place for food enthusiasts.\",\n",
    "    \"The staff here is exceptional. They are attentive, friendly, and always make you feel welcome. It's a pleasure dining at this establishment.\",\n",
    "    \"I celebrated a special occasion at this restaurant, and it was perfect. The attention to detail, from the menu to the decor, made the evening memorable.\",\n",
    "    \"This restaurant exceeded my expectations. The menu offers a diverse range of dishes, and each one I tried was delicious. A must-visit for food lovers!\",\n",
    "]"
   ]
  },
  {
   "cell_type": "code",
   "execution_count": 84,
   "metadata": {},
   "outputs": [],
   "source": [
    "negative_restaurant_reviews = [\n",
    "    \"My experience at this restaurant was disappointing. The service was slow, the food was mediocre, and the overall atmosphere lacked warmth.\",\n",
    "    \"I had high hopes for this place, but it fell short. The portions were small, and the flavors were underwhelming. I won't be returning.\",\n",
    "    \"The staff seemed overwhelmed and unorganized. It took ages to get our orders, and the quality of the food didn't justify the wait.\",\n",
    "    \"I had a bad encounter with the waitstaff. They were rude and inattentive, making the dining experience unpleasant.\",\n",
    "    \"Unfortunately, the hygiene standards at this restaurant were not up to par. The cleanliness of the facilities left much to be desired, impacting the overall experience.\",\n",
    "]"
   ]
  },
  {
   "cell_type": "code",
   "execution_count": 85,
   "metadata": {},
   "outputs": [],
   "source": [
    "df_positive_reviews = pd.DataFrame(positive_restaurant_reviews, columns=['Review'])\n",
    "df_negative_reviews = pd.DataFrame(negative_restaurant_reviews, columns=['Review'])"
   ]
  },
  {
   "cell_type": "code",
   "execution_count": 86,
   "metadata": {},
   "outputs": [
    {
     "name": "stdout",
     "output_type": "stream",
     "text": [
      "\n",
      "=== Cleaning Process ===\n",
      "\n",
      "⬇️ Removing HTML Tags ⬇️\n",
      "\n",
      "⬇️ Lowercasing Text ⬇️\n",
      "\n",
      "⬇️ Removing Punctuation ⬇️\n",
      "\n",
      "⬇️ Removing Numbers ⬇️\n",
      "\n",
      "⬇️ Removing Whitespace ⬇️\n",
      "\n",
      "⬇️ Expanding Contractions ⬇️\n",
      "\n",
      "⬇️ Removing Stopwords ⬇️\n",
      "\n",
      "⬇️ Stemming Words ⬇️\n",
      "\n",
      "=== Cleaning Completed ===\n",
      "\n"
     ]
    }
   ],
   "source": [
    "pre=prediction(df_positive_reviews,'Review')"
   ]
  },
  {
   "cell_type": "code",
   "execution_count": 87,
   "metadata": {},
   "outputs": [],
   "source": [
    "df_positive_reviews['Prediction']=pre['Prediction']"
   ]
  },
  {
   "cell_type": "code",
   "execution_count": 88,
   "metadata": {},
   "outputs": [
    {
     "data": {
      "text/html": [
       "<div>\n",
       "<style scoped>\n",
       "    .dataframe tbody tr th:only-of-type {\n",
       "        vertical-align: middle;\n",
       "    }\n",
       "\n",
       "    .dataframe tbody tr th {\n",
       "        vertical-align: top;\n",
       "    }\n",
       "\n",
       "    .dataframe thead th {\n",
       "        text-align: right;\n",
       "    }\n",
       "</style>\n",
       "<table border=\"1\" class=\"dataframe\">\n",
       "  <thead>\n",
       "    <tr style=\"text-align: right;\">\n",
       "      <th></th>\n",
       "      <th>Review</th>\n",
       "      <th>Prediction</th>\n",
       "    </tr>\n",
       "  </thead>\n",
       "  <tbody>\n",
       "    <tr>\n",
       "      <th>0</th>\n",
       "      <td>delightful dining experience restaurant. food ...</td>\n",
       "      <td>1</td>\n",
       "    </tr>\n",
       "    <tr>\n",
       "      <th>1</th>\n",
       "      <td>chef restaurant truly talented. Every dish cul...</td>\n",
       "      <td>1</td>\n",
       "    </tr>\n",
       "    <tr>\n",
       "      <th>2</th>\n",
       "      <td>staff exceptional. attentive, friendly, always...</td>\n",
       "      <td>1</td>\n",
       "    </tr>\n",
       "    <tr>\n",
       "      <th>3</th>\n",
       "      <td>celebrated special occasion restaurant, perfec...</td>\n",
       "      <td>1</td>\n",
       "    </tr>\n",
       "    <tr>\n",
       "      <th>4</th>\n",
       "      <td>restaurant exceeded expectations. menu offers ...</td>\n",
       "      <td>1</td>\n",
       "    </tr>\n",
       "  </tbody>\n",
       "</table>\n",
       "</div>"
      ],
      "text/plain": [
       "                                              Review  Prediction\n",
       "0  delightful dining experience restaurant. food ...           1\n",
       "1  chef restaurant truly talented. Every dish cul...           1\n",
       "2  staff exceptional. attentive, friendly, always...           1\n",
       "3  celebrated special occasion restaurant, perfec...           1\n",
       "4  restaurant exceeded expectations. menu offers ...           1"
      ]
     },
     "execution_count": 88,
     "metadata": {},
     "output_type": "execute_result"
    }
   ],
   "source": [
    "df_positive_reviews"
   ]
  },
  {
   "cell_type": "code",
   "execution_count": 89,
   "metadata": {},
   "outputs": [
    {
     "name": "stdout",
     "output_type": "stream",
     "text": [
      "\n",
      "=== Cleaning Process ===\n",
      "\n",
      "⬇️ Removing HTML Tags ⬇️\n",
      "\n",
      "⬇️ Lowercasing Text ⬇️\n",
      "\n",
      "⬇️ Removing Punctuation ⬇️\n",
      "\n",
      "⬇️ Removing Numbers ⬇️\n",
      "\n",
      "⬇️ Removing Whitespace ⬇️\n",
      "\n",
      "⬇️ Expanding Contractions ⬇️\n",
      "\n",
      "⬇️ Removing Stopwords ⬇️\n",
      "\n",
      "⬇️ Stemming Words ⬇️\n",
      "\n",
      "=== Cleaning Completed ===\n",
      "\n"
     ]
    }
   ],
   "source": [
    "pre=prediction(df_negative_reviews,'Review')"
   ]
  },
  {
   "cell_type": "code",
   "execution_count": 90,
   "metadata": {},
   "outputs": [],
   "source": [
    "df_negative_reviews['Prediction']=pre['Prediction']"
   ]
  },
  {
   "cell_type": "code",
   "execution_count": 91,
   "metadata": {},
   "outputs": [
    {
     "data": {
      "text/html": [
       "<div>\n",
       "<style scoped>\n",
       "    .dataframe tbody tr th:only-of-type {\n",
       "        vertical-align: middle;\n",
       "    }\n",
       "\n",
       "    .dataframe tbody tr th {\n",
       "        vertical-align: top;\n",
       "    }\n",
       "\n",
       "    .dataframe thead th {\n",
       "        text-align: right;\n",
       "    }\n",
       "</style>\n",
       "<table border=\"1\" class=\"dataframe\">\n",
       "  <thead>\n",
       "    <tr style=\"text-align: right;\">\n",
       "      <th></th>\n",
       "      <th>Review</th>\n",
       "      <th>Prediction</th>\n",
       "    </tr>\n",
       "  </thead>\n",
       "  <tbody>\n",
       "    <tr>\n",
       "      <th>0</th>\n",
       "      <td>experience restaurant disappointing. service s...</td>\n",
       "      <td>0</td>\n",
       "    </tr>\n",
       "    <tr>\n",
       "      <th>1</th>\n",
       "      <td>high hopes place, fell short. portions small, ...</td>\n",
       "      <td>0</td>\n",
       "    </tr>\n",
       "    <tr>\n",
       "      <th>2</th>\n",
       "      <td>staff seemed overwhelmed unorganized. took age...</td>\n",
       "      <td>0</td>\n",
       "    </tr>\n",
       "    <tr>\n",
       "      <th>3</th>\n",
       "      <td>bad encounter waitstaff. rude inattentive, mak...</td>\n",
       "      <td>0</td>\n",
       "    </tr>\n",
       "    <tr>\n",
       "      <th>4</th>\n",
       "      <td>Unfortunately, hygiene standards restaurant pa...</td>\n",
       "      <td>0</td>\n",
       "    </tr>\n",
       "  </tbody>\n",
       "</table>\n",
       "</div>"
      ],
      "text/plain": [
       "                                              Review  Prediction\n",
       "0  experience restaurant disappointing. service s...           0\n",
       "1  high hopes place, fell short. portions small, ...           0\n",
       "2  staff seemed overwhelmed unorganized. took age...           0\n",
       "3  bad encounter waitstaff. rude inattentive, mak...           0\n",
       "4  Unfortunately, hygiene standards restaurant pa...           0"
      ]
     },
     "execution_count": 91,
     "metadata": {},
     "output_type": "execute_result"
    }
   ],
   "source": [
    "df_negative_reviews"
   ]
  },
  {
   "cell_type": "code",
   "execution_count": 92,
   "metadata": {},
   "outputs": [],
   "source": [
    "df_test=pd.read_csv('a2_RestaurantReviews_FreshDump.tsv',sep='\\t')"
   ]
  },
  {
   "cell_type": "code",
   "execution_count": 93,
   "metadata": {},
   "outputs": [
    {
     "data": {
      "text/html": [
       "<div>\n",
       "<style scoped>\n",
       "    .dataframe tbody tr th:only-of-type {\n",
       "        vertical-align: middle;\n",
       "    }\n",
       "\n",
       "    .dataframe tbody tr th {\n",
       "        vertical-align: top;\n",
       "    }\n",
       "\n",
       "    .dataframe thead th {\n",
       "        text-align: right;\n",
       "    }\n",
       "</style>\n",
       "<table border=\"1\" class=\"dataframe\">\n",
       "  <thead>\n",
       "    <tr style=\"text-align: right;\">\n",
       "      <th></th>\n",
       "      <th>Review</th>\n",
       "    </tr>\n",
       "  </thead>\n",
       "  <tbody>\n",
       "    <tr>\n",
       "      <th>0</th>\n",
       "      <td>Spend your money elsewhere.</td>\n",
       "    </tr>\n",
       "    <tr>\n",
       "      <th>1</th>\n",
       "      <td>Their regular toasted bread was equally satisf...</td>\n",
       "    </tr>\n",
       "    <tr>\n",
       "      <th>2</th>\n",
       "      <td>The Buffet at Bellagio was far from what I ant...</td>\n",
       "    </tr>\n",
       "    <tr>\n",
       "      <th>3</th>\n",
       "      <td>And the drinks are WEAK, people!</td>\n",
       "    </tr>\n",
       "    <tr>\n",
       "      <th>4</th>\n",
       "      <td>-My order was not correct.</td>\n",
       "    </tr>\n",
       "  </tbody>\n",
       "</table>\n",
       "</div>"
      ],
      "text/plain": [
       "                                              Review\n",
       "0                        Spend your money elsewhere.\n",
       "1  Their regular toasted bread was equally satisf...\n",
       "2  The Buffet at Bellagio was far from what I ant...\n",
       "3                   And the drinks are WEAK, people!\n",
       "4                         -My order was not correct."
      ]
     },
     "execution_count": 93,
     "metadata": {},
     "output_type": "execute_result"
    }
   ],
   "source": [
    "df_test.head()"
   ]
  },
  {
   "cell_type": "code",
   "execution_count": 94,
   "metadata": {},
   "outputs": [
    {
     "name": "stdout",
     "output_type": "stream",
     "text": [
      "\n",
      "=== Cleaning Process ===\n",
      "\n",
      "⬇️ Removing HTML Tags ⬇️\n",
      "\n",
      "⬇️ Lowercasing Text ⬇️\n",
      "\n",
      "⬇️ Removing Punctuation ⬇️\n",
      "\n",
      "⬇️ Removing Numbers ⬇️\n",
      "\n",
      "⬇️ Removing Whitespace ⬇️\n",
      "\n",
      "⬇️ Expanding Contractions ⬇️\n",
      "\n",
      "⬇️ Removing Stopwords ⬇️\n",
      "\n",
      "⬇️ Stemming Words ⬇️\n",
      "\n",
      "=== Cleaning Completed ===\n",
      "\n"
     ]
    }
   ],
   "source": [
    "pre=prediction(df_test,'Review')"
   ]
  },
  {
   "cell_type": "code",
   "execution_count": 95,
   "metadata": {},
   "outputs": [],
   "source": [
    "df_test['Prediction']=pre['Prediction']"
   ]
  },
  {
   "cell_type": "code",
   "execution_count": 96,
   "metadata": {},
   "outputs": [
    {
     "data": {
      "text/html": [
       "<div>\n",
       "<style scoped>\n",
       "    .dataframe tbody tr th:only-of-type {\n",
       "        vertical-align: middle;\n",
       "    }\n",
       "\n",
       "    .dataframe tbody tr th {\n",
       "        vertical-align: top;\n",
       "    }\n",
       "\n",
       "    .dataframe thead th {\n",
       "        text-align: right;\n",
       "    }\n",
       "</style>\n",
       "<table border=\"1\" class=\"dataframe\">\n",
       "  <thead>\n",
       "    <tr style=\"text-align: right;\">\n",
       "      <th></th>\n",
       "      <th>Review</th>\n",
       "      <th>Prediction</th>\n",
       "    </tr>\n",
       "  </thead>\n",
       "  <tbody>\n",
       "    <tr>\n",
       "      <th>0</th>\n",
       "      <td>Spend money elsewhere.</td>\n",
       "      <td>0</td>\n",
       "    </tr>\n",
       "    <tr>\n",
       "      <th>1</th>\n",
       "      <td>regular toasted bread equally satisfying occas...</td>\n",
       "      <td>1</td>\n",
       "    </tr>\n",
       "    <tr>\n",
       "      <th>2</th>\n",
       "      <td>Buffet Bellagio far anticipated.</td>\n",
       "      <td>1</td>\n",
       "    </tr>\n",
       "    <tr>\n",
       "      <th>3</th>\n",
       "      <td>drinks WEAK, people!</td>\n",
       "      <td>1</td>\n",
       "    </tr>\n",
       "    <tr>\n",
       "      <th>4</th>\n",
       "      <td>-My order correct.</td>\n",
       "      <td>0</td>\n",
       "    </tr>\n",
       "  </tbody>\n",
       "</table>\n",
       "</div>"
      ],
      "text/plain": [
       "                                              Review  Prediction\n",
       "0                             Spend money elsewhere.           0\n",
       "1  regular toasted bread equally satisfying occas...           1\n",
       "2                   Buffet Bellagio far anticipated.           1\n",
       "3                               drinks WEAK, people!           1\n",
       "4                                 -My order correct.           0"
      ]
     },
     "execution_count": 96,
     "metadata": {},
     "output_type": "execute_result"
    }
   ],
   "source": [
    "df_test.head()"
   ]
  },
  {
   "cell_type": "code",
   "execution_count": 97,
   "metadata": {},
   "outputs": [],
   "source": [
    "with open('model.pkl', 'wb') as file:\n",
    "    pickle.dump(pipeline_rf, file)"
   ]
  },
  {
   "cell_type": "code",
   "execution_count": null,
   "metadata": {},
   "outputs": [],
   "source": []
  }
 ],
 "metadata": {
  "kernelspec": {
   "display_name": "Python 3 (ipykernel)",
   "language": "python",
   "name": "python3"
  },
  "language_info": {
   "codemirror_mode": {
    "name": "ipython",
    "version": 3
   },
   "file_extension": ".py",
   "mimetype": "text/x-python",
   "name": "python",
   "nbconvert_exporter": "python",
   "pygments_lexer": "ipython3",
   "version": "3.11.4"
  }
 },
 "nbformat": 4,
 "nbformat_minor": 2
}
